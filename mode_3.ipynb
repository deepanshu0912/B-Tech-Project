{
 "cells": [
  {
   "cell_type": "code",
   "execution_count": 3,
   "metadata": {},
   "outputs": [],
   "source": [
    "import torch\n",
    "import numpy as np\n",
    "import os\n",
    "import matplotlib.pyplot as plt\n",
    "from matplotlib.backends.backend_agg import FigureCanvasAgg as FigureCanvas\n",
    "import cv2\n",
    "from torch.utils.data import DataLoader, ConcatDataset,Dataset\n",
    "import torch.optim as optim\n",
    "import torch.nn.functional as F\n",
    "from sklearn.metrics import precision_score, recall_score, f1_score\n",
    "import torch.nn as nn\n",
    "import torchvision.transforms as T\n",
    "import random\n",
    "from torchinfo import summary\n",
    "from tqdm import tqdm"
   ]
  },
  {
   "cell_type": "code",
   "execution_count": 4,
   "metadata": {},
   "outputs": [],
   "source": [
    "# Path to your dataset folder\n",
    "path = \"../new_data\""
   ]
  },
  {
   "cell_type": "code",
   "execution_count": 5,
   "metadata": {},
   "outputs": [],
   "source": [
    "num_epochs = 25  # Number of epochs\n",
    "learning_rate = 0.00001  # Learning rate\n",
    "device = \"cuda\" if torch.cuda.is_available() else \"cpu\""
   ]
  },
  {
   "cell_type": "code",
   "execution_count": 6,
   "metadata": {},
   "outputs": [
    {
     "data": {
      "text/plain": [
       "'cuda'"
      ]
     },
     "execution_count": 6,
     "metadata": {},
     "output_type": "execute_result"
    }
   ],
   "source": [
    "device"
   ]
  },
  {
   "cell_type": "code",
   "execution_count": 7,
   "metadata": {},
   "outputs": [],
   "source": [
    "def strokeToImage(strokes):\n",
    "\n",
    "    def rotate(x, y, angle):\n",
    "        theta = np.radians(angle)\n",
    "        c, s = np.cos(theta), np.sin(theta)\n",
    "        x_rot = c * x - s * y\n",
    "        y_rot = s * x + c * y\n",
    "        return x_rot, y_rot\n",
    "    \n",
    "    x, y = strokes[0][0], strokes[0][1]\n",
    "\n",
    "    # Create a figure and canvas to render the plot\n",
    "    fig, ax = plt.subplots(figsize=(5, 5))\n",
    "    canvas = FigureCanvas(fig)\n",
    "    \n",
    "    for stroke in strokes:\n",
    "        \n",
    "        dx, dy, pen_up = stroke[0],stroke[1],stroke[2]\n",
    "        \n",
    "        \n",
    "        new_x, new_y = x+dx, y+dy  \n",
    "\n",
    "        if pen_up == 0:\n",
    "            ax.plot([x,new_x], [y,new_y], color='black')\n",
    "\n",
    "        x, y = new_x, new_y\n",
    "\n",
    "    # Set limits for the plot\n",
    "    ax.set_xlim(-800, 800)\n",
    "    ax.set_ylim(-800, 800)\n",
    "    \n",
    "    # Remove axis ticks and labels for a clean image\n",
    "    ax.axis('off')\n",
    "\n",
    "    # Render the plot to the canvas\n",
    "    canvas.draw()\n",
    "\n",
    "    # Convert the canvas to a NumPy array\n",
    "    image = np.frombuffer(canvas.tostring_rgb(), dtype='uint8')\n",
    "    \n",
    "    # Get the width and height from the figure\n",
    "    width, height = fig.get_size_inches() * fig.get_dpi()\n",
    "\n",
    "    # Reshape the buffer to the correct dimensions (height, width, 3) for an RGB image\n",
    "    image = image.reshape(int(height), int(width), 3)\n",
    "    img = cv2.cvtColor(image, cv2.COLOR_BGR2GRAY) # bw_img will be of shape (32, 32)\n",
    "\n",
    "    \n",
    "    img_resized = cv2.resize(img, (250, 250))\n",
    "\n",
    "    # Optionally rotate the image if needed\n",
    "    img_resized = np.rot90(img_resized, k=2)\n",
    "\n",
    "    plt.close(fig)\n",
    "\n",
    "    return img_resized\n",
    "\n",
    "\n",
    "\n",
    "def strokeProcess(strokes, limit):\n",
    "    # Create the placeholder array\n",
    "    place_holder = np.array([[0, 0, 1]])\n",
    "\n",
    "    # Add initial placeholder stroke\n",
    "    strokes = np.vstack([place_holder, strokes])\n",
    "\n",
    "    # Get the length of the strokes array\n",
    "    leng = len(strokes)\n",
    "\n",
    "    if leng < limit:\n",
    "        # If there are fewer strokes than the limit, pad with placeholders\n",
    "        padding = np.tile(place_holder, (limit - leng, 1))\n",
    "        strokes = np.vstack([strokes, padding])\n",
    "    else:\n",
    "        # If there are more strokes than the limit, truncate to the limit\n",
    "        strokes = strokes[:limit]\n",
    "\n",
    "    # Append a final placeholder stroke\n",
    "    strokes = np.vstack([strokes, place_holder])\n",
    "    \n",
    "    return strokes"
   ]
  },
  {
   "cell_type": "code",
   "execution_count": 8,
   "metadata": {},
   "outputs": [
    {
     "name": "stdout",
     "output_type": "stream",
     "text": [
      "airplane.npz\n"
     ]
    }
   ],
   "source": [
    "# dataloader\n",
    "class customDataset(Dataset):\n",
    "    def __init__(self,strokes_path,split,transform=None):\n",
    "        self.strokes_path = strokes_path\n",
    "        self.split = split\n",
    "        self.transform = transform\n",
    "        self.data = np.load(self.strokes_path,encoding='latin1',allow_pickle=True)[split]\n",
    "\n",
    "        \n",
    "        \n",
    "\n",
    "\n",
    "    def __len__(self):\n",
    "        return len(self.data)\n",
    "\n",
    "    def __getitem__(self, index):\n",
    "        strokes = self.data[index]\n",
    "        main_strokes = strokes[:3, :]\n",
    "        last_strokes = strokes\n",
    "\n",
    "        img = strokeToImage(main_strokes)  # Image from half-drawn strokes\n",
    "        main_strokes = strokeProcess(main_strokes, 100)\n",
    "        last_strokes = strokeProcess(last_strokes,100)\n",
    "\n",
    "        ref_img = strokeToImage(strokes)  # You may change this to select a different reference image\n",
    "\n",
    "        if self.transform:\n",
    "            img = self.transform(img)\n",
    "            ref_img = self.transform(ref_img)\n",
    "\n",
    "        resize_transform = T.Resize((250, 250))\n",
    "        \n",
    "        img = resize_transform(torch.tensor(img.copy(), dtype=torch.float32).unsqueeze(0))  # Add channel dimension\n",
    "        ref_img = resize_transform(torch.tensor(ref_img.copy(), dtype=torch.float32).unsqueeze(0))  # Reference image tensor\n",
    "        later_strokes = torch.tensor(last_strokes, dtype=torch.float32)\n",
    "        main_strokes = torch.tensor(main_strokes, dtype=torch.float32)\n",
    "        \n",
    "\n",
    "        return img, ref_img, main_strokes,later_strokes\n",
    "\n",
    "\n",
    "\n",
    "\n",
    "# Initialize an empty list to store the datasets\n",
    "train_datasets = []\n",
    "test_datasets = []\n",
    "val_datasets = []\n",
    "\n",
    "# Loop through the files in the directory\n",
    "for folder in os.listdir(path):\n",
    "    # Check the file extension and name format\n",
    "    print(folder)\n",
    "    \n",
    "    if folder.split('.')[1] != \"full\":\n",
    "        folder_path = os.path.join(path, folder)\n",
    "\n",
    "        try:\n",
    "            # Assuming customDataset is your function or class that loads the dataset\n",
    "            train_data = customDataset(folder_path, \"train\")\n",
    "            test_data = customDataset(folder_path, \"test\")\n",
    "            val_data = customDataset(folder_path, \"valid\")\n",
    "\n",
    "            # Append the dataset to the list\n",
    "            train_datasets.append(train_data)\n",
    "            test_datasets.append(test_data)\n",
    "            val_datasets.append(val_data)\n",
    "            \n",
    "\n",
    "        except KeyError as e:\n",
    "            # Handle the KeyError in case 'train' is not in the npz file\n",
    "            print(f\"KeyError: {e} in file {folder_path}\")\n",
    "            continue  # Skip to the next file if an error occurs\n",
    "\n",
    "# Concatenate all the datasets\n",
    "train_data = ConcatDataset(train_datasets)\n",
    "test_data = ConcatDataset(test_datasets)\n",
    "val_data = ConcatDataset(val_datasets)\n",
    "\n",
    "\n",
    "train_loader = DataLoader(train_data, batch_size=2, shuffle=True)\n",
    "test_loader = DataLoader(test_data, batch_size=2, shuffle=True)\n",
    "val_loader = DataLoader(val_data, batch_size=2, shuffle=True)"
   ]
  },
  {
   "cell_type": "code",
   "execution_count": 9,
   "metadata": {},
   "outputs": [
    {
     "name": "stdout",
     "output_type": "stream",
     "text": [
      "Number of batches: 35000\n"
     ]
    }
   ],
   "source": [
    "from torch.utils.data import DataLoader\n",
    "\n",
    "# Assuming train_loader is your DataLoader instance\n",
    "num_batches = len(train_loader.dataset) // train_loader.batch_size\n",
    "if len(train_loader.dataset) % train_loader.batch_size != 0:\n",
    "    num_batches += 1  # account for the last partial batch\n",
    "\n",
    "print(\"Number of batches:\", num_batches)\n"
   ]
  },
  {
   "cell_type": "code",
   "execution_count": 15,
   "metadata": {},
   "outputs": [],
   "source": [
    "import torch\n",
    "import torch.nn as nn\n",
    "\n",
    "class Conv2dModel(nn.Module):\n",
    "    def __init__(self, cnn_out, input_channels=1, input_size=(1, 250, 250)):\n",
    "        super(Conv2dModel, self).__init__()\n",
    "        \n",
    "        self.cnn = nn.Sequential(\n",
    "            nn.Conv2d(input_channels, 32, kernel_size=3, stride=1, padding=1),\n",
    "            nn.ReLU(),\n",
    "            nn.MaxPool2d(2),  # 32x125x125\n",
    "            nn.Conv2d(32, 64, kernel_size=3, stride=1, padding=1),\n",
    "            nn.ReLU(),\n",
    "            nn.MaxPool2d(2),  # 64x62x62\n",
    "            nn.Conv2d(64, 128, kernel_size=3, stride=1, padding=1),\n",
    "            nn.ReLU(),\n",
    "            nn.MaxPool2d(2),  # 128x31x31\n",
    "            nn.Flatten()\n",
    "        )\n",
    "        \n",
    "        # Compute the flattened size\n",
    "        with torch.no_grad():\n",
    "            dummy_input = torch.zeros(1, *input_size)\n",
    "            dummy_output = self.cnn(dummy_input)\n",
    "            flattened_size = dummy_output.view(1, -1).size(1)\n",
    "            print(f\"Flattened size: {flattened_size}\")  # Debugging purpose\n",
    "        \n",
    "        self.fc = nn.Sequential(\n",
    "            nn.Linear(flattened_size, cnn_out),\n",
    "            nn.ReLU()\n",
    "        )\n",
    "    \n",
    "    def forward(self, img):\n",
    "        x = self.cnn(img)\n",
    "        x = self.fc(x)\n",
    "        return x\n",
    "\n",
    "\n",
    "class Encoder(nn.Module):\n",
    "    def __init__(self, cnn_out_dim, output_dim):\n",
    "        super(Encoder, self).__init__()\n",
    "        \n",
    "        self.half_cnn = Conv2dModel(cnn_out_dim)\n",
    "        self.full_cnn = Conv2dModel(cnn_out_dim)\n",
    "        \n",
    "        self.fc_xy = nn.Sequential(\n",
    "            nn.Linear(cnn_out_dim * 2, output_dim),\n",
    "            nn.ReLU(),\n",
    "            nn.Linear(output_dim, 2)  # Output for next stroke (x, y)\n",
    "        )\n",
    "        \n",
    "        # Define a separate layer for z with a sigmoid activation\n",
    "        self.fc_z = nn.Sequential(\n",
    "            nn.Linear(cnn_out_dim * 2, output_dim),\n",
    "            nn.ReLU(),\n",
    "            nn.Linear(output_dim, 1),\n",
    "            nn.Sigmoid()  # Ensure z is between 0 and 1\n",
    "        )\n",
    "\n",
    "    def forward(self, half_img, full_img):\n",
    "        # Get encodings for half and full images\n",
    "        half_img_encoding = self.half_cnn(half_img)\n",
    "        full_img_encoding = self.full_cnn(full_img)\n",
    "        \n",
    "        # Concatenate encodings from both images\n",
    "        combined_encoding = torch.cat((half_img_encoding, full_img_encoding), dim=1)\n",
    "        \n",
    "        # Predict next stroke\n",
    "        xy_output = self.fc_xy(combined_encoding)  # Shape: [batch_size, 2]\n",
    "        \n",
    "        # Predict z (binary output between 0 and 1)\n",
    "        z_output = self.fc_z(combined_encoding)  # Shape: [batch_size, 1]\n",
    "        z_output_binary = (z_output > 0.5).float()  # Threshold to make z binary (0 or 1)\n",
    "        \n",
    "        # Concatenate xy and z outputs to form the final output\n",
    "        output = torch.cat((xy_output, z_output_binary), dim=1)  # Shape: [batch_size, 3]\n",
    "        \n",
    "        return output"
   ]
  },
  {
   "cell_type": "code",
   "execution_count": 16,
   "metadata": {},
   "outputs": [
    {
     "name": "stderr",
     "output_type": "stream",
     "text": [
      "/tmp/ipykernel_16003/548956240.py:39: MatplotlibDeprecationWarning: The tostring_rgb function was deprecated in Matplotlib 3.8 and will be removed in 3.10. Use buffer_rgba instead.\n",
      "  image = np.frombuffer(canvas.tostring_rgb(), dtype='uint8')\n"
     ]
    },
    {
     "data": {
      "text/plain": [
       "4"
      ]
     },
     "execution_count": 16,
     "metadata": {},
     "output_type": "execute_result"
    }
   ],
   "source": [
    "len(next(iter(train_loader)))"
   ]
  },
  {
   "cell_type": "code",
   "execution_count": 17,
   "metadata": {},
   "outputs": [],
   "source": [
    "# temp = next(iter(train_loader))\n",
    "\n",
    "# print(temp[0].shape)\n",
    "# print(temp[1].shape)\n",
    "# print(temp[2][0])\n",
    "# print(\"last : \",temp[3][1])"
   ]
  },
  {
   "cell_type": "code",
   "execution_count": 18,
   "metadata": {},
   "outputs": [
    {
     "name": "stdout",
     "output_type": "stream",
     "text": [
      "Flattened size: 123008\n",
      "Flattened size: 123008\n"
     ]
    }
   ],
   "source": [
    "model = Encoder(cnn_out_dim=32, output_dim=64).to(device)\n",
    "\n",
    "train_losses = []\n",
    "val_losses = []\n",
    "optimizer = optim.Adam(model.parameters(), lr=learning_rate, amsgrad=True)\n",
    "alpha = 0.7  \n",
    "beta = 0.3  \n",
    "criterion = nn.MSELoss()\n",
    "# model.load_state_dict(torch.load('../saved_models/best_model.pth'))\n",
    "# model.eval()"
   ]
  },
  {
   "cell_type": "code",
   "execution_count": 19,
   "metadata": {},
   "outputs": [
    {
     "name": "stderr",
     "output_type": "stream",
     "text": [
      "/tmp/ipykernel_16003/548956240.py:39: MatplotlibDeprecationWarning: The tostring_rgb function was deprecated in Matplotlib 3.8 and will be removed in 3.10. Use buffer_rgba instead.\n",
      "  image = np.frombuffer(canvas.tostring_rgb(), dtype='uint8')\n",
      "Processing Strokes for Batch 0:   0%|                                     | 0/2 [00:00<?, ?sample/s]"
     ]
    },
    {
     "name": "stderr",
     "output_type": "stream",
     "text": [
      "Processing Strokes for Batch 0:   0%|                                     | 0/2 [00:04<?, ?sample/s]\n"
     ]
    },
    {
     "ename": "KeyboardInterrupt",
     "evalue": "",
     "output_type": "error",
     "traceback": [
      "\u001b[0;31m---------------------------------------------------------------------------\u001b[0m",
      "\u001b[0;31mKeyboardInterrupt\u001b[0m                         Traceback (most recent call last)",
      "Cell \u001b[0;32mIn[19], line 48\u001b[0m\n\u001b[1;32m     46\u001b[0m images \u001b[38;5;241m=\u001b[39m []\n\u001b[1;32m     47\u001b[0m \u001b[38;5;28;01mfor\u001b[39;00m seq \u001b[38;5;129;01min\u001b[39;00m half_strokes:\n\u001b[0;32m---> 48\u001b[0m     img \u001b[38;5;241m=\u001b[39m \u001b[43mstrokeToImage\u001b[49m\u001b[43m(\u001b[49m\u001b[43mseq\u001b[49m\u001b[38;5;241;43m.\u001b[39;49m\u001b[43mcpu\u001b[49m\u001b[43m(\u001b[49m\u001b[43m)\u001b[49m\u001b[38;5;241;43m.\u001b[39;49m\u001b[43mdetach\u001b[49m\u001b[43m(\u001b[49m\u001b[43m)\u001b[49m\u001b[38;5;241;43m.\u001b[39;49m\u001b[43mnumpy\u001b[49m\u001b[43m(\u001b[49m\u001b[43m)\u001b[49m\u001b[43m)\u001b[49m  \u001b[38;5;66;03m# Convert to NumPy array\u001b[39;00m\n\u001b[1;32m     49\u001b[0m     images\u001b[38;5;241m.\u001b[39mappend(img)\n\u001b[1;32m     51\u001b[0m new_half_img_list \u001b[38;5;241m=\u001b[39m []\n",
      "Cell \u001b[0;32mIn[7], line 24\u001b[0m, in \u001b[0;36mstrokeToImage\u001b[0;34m(strokes)\u001b[0m\n\u001b[1;32m     21\u001b[0m     new_x, new_y \u001b[38;5;241m=\u001b[39m x\u001b[38;5;241m+\u001b[39mdx, y\u001b[38;5;241m+\u001b[39mdy  \n\u001b[1;32m     23\u001b[0m     \u001b[38;5;28;01mif\u001b[39;00m pen_up \u001b[38;5;241m==\u001b[39m \u001b[38;5;241m0\u001b[39m:\n\u001b[0;32m---> 24\u001b[0m         \u001b[43max\u001b[49m\u001b[38;5;241;43m.\u001b[39;49m\u001b[43mplot\u001b[49m\u001b[43m(\u001b[49m\u001b[43m[\u001b[49m\u001b[43mx\u001b[49m\u001b[43m,\u001b[49m\u001b[43mnew_x\u001b[49m\u001b[43m]\u001b[49m\u001b[43m,\u001b[49m\u001b[43m \u001b[49m\u001b[43m[\u001b[49m\u001b[43my\u001b[49m\u001b[43m,\u001b[49m\u001b[43mnew_y\u001b[49m\u001b[43m]\u001b[49m\u001b[43m,\u001b[49m\u001b[43m \u001b[49m\u001b[43mcolor\u001b[49m\u001b[38;5;241;43m=\u001b[39;49m\u001b[38;5;124;43m'\u001b[39;49m\u001b[38;5;124;43mblack\u001b[39;49m\u001b[38;5;124;43m'\u001b[39;49m\u001b[43m)\u001b[49m\n\u001b[1;32m     26\u001b[0m     x, y \u001b[38;5;241m=\u001b[39m new_x, new_y\n\u001b[1;32m     28\u001b[0m \u001b[38;5;66;03m# Set limits for the plot\u001b[39;00m\n",
      "File \u001b[0;32m~/Desktop/Models/myenv/lib/python3.12/site-packages/matplotlib/axes/_axes.py:1779\u001b[0m, in \u001b[0;36mAxes.plot\u001b[0;34m(self, scalex, scaley, data, *args, **kwargs)\u001b[0m\n\u001b[1;32m   1536\u001b[0m \u001b[38;5;250m\u001b[39m\u001b[38;5;124;03m\"\"\"\u001b[39;00m\n\u001b[1;32m   1537\u001b[0m \u001b[38;5;124;03mPlot y versus x as lines and/or markers.\u001b[39;00m\n\u001b[1;32m   1538\u001b[0m \n\u001b[0;32m   (...)\u001b[0m\n\u001b[1;32m   1776\u001b[0m \u001b[38;5;124;03m(``'green'``) or hex strings (``'#008000'``).\u001b[39;00m\n\u001b[1;32m   1777\u001b[0m \u001b[38;5;124;03m\"\"\"\u001b[39;00m\n\u001b[1;32m   1778\u001b[0m kwargs \u001b[38;5;241m=\u001b[39m cbook\u001b[38;5;241m.\u001b[39mnormalize_kwargs(kwargs, mlines\u001b[38;5;241m.\u001b[39mLine2D)\n\u001b[0;32m-> 1779\u001b[0m lines \u001b[38;5;241m=\u001b[39m [\u001b[38;5;241m*\u001b[39m\u001b[38;5;28mself\u001b[39m\u001b[38;5;241m.\u001b[39m_get_lines(\u001b[38;5;28mself\u001b[39m, \u001b[38;5;241m*\u001b[39margs, data\u001b[38;5;241m=\u001b[39mdata, \u001b[38;5;241m*\u001b[39m\u001b[38;5;241m*\u001b[39mkwargs)]\n\u001b[1;32m   1780\u001b[0m \u001b[38;5;28;01mfor\u001b[39;00m line \u001b[38;5;129;01min\u001b[39;00m lines:\n\u001b[1;32m   1781\u001b[0m     \u001b[38;5;28mself\u001b[39m\u001b[38;5;241m.\u001b[39madd_line(line)\n",
      "File \u001b[0;32m~/Desktop/Models/myenv/lib/python3.12/site-packages/matplotlib/axes/_base.py:296\u001b[0m, in \u001b[0;36m_process_plot_var_args.__call__\u001b[0;34m(self, axes, data, *args, **kwargs)\u001b[0m\n\u001b[1;32m    294\u001b[0m     this \u001b[38;5;241m+\u001b[39m\u001b[38;5;241m=\u001b[39m args[\u001b[38;5;241m0\u001b[39m],\n\u001b[1;32m    295\u001b[0m     args \u001b[38;5;241m=\u001b[39m args[\u001b[38;5;241m1\u001b[39m:]\n\u001b[0;32m--> 296\u001b[0m \u001b[38;5;28;01myield from\u001b[39;00m \u001b[38;5;28;43mself\u001b[39;49m\u001b[38;5;241;43m.\u001b[39;49m\u001b[43m_plot_args\u001b[49m\u001b[43m(\u001b[49m\n\u001b[1;32m    297\u001b[0m \u001b[43m    \u001b[49m\u001b[43maxes\u001b[49m\u001b[43m,\u001b[49m\u001b[43m \u001b[49m\u001b[43mthis\u001b[49m\u001b[43m,\u001b[49m\u001b[43m \u001b[49m\u001b[43mkwargs\u001b[49m\u001b[43m,\u001b[49m\u001b[43m \u001b[49m\u001b[43mambiguous_fmt_datakey\u001b[49m\u001b[38;5;241;43m=\u001b[39;49m\u001b[43mambiguous_fmt_datakey\u001b[49m\u001b[43m)\u001b[49m\n",
      "File \u001b[0;32m~/Desktop/Models/myenv/lib/python3.12/site-packages/matplotlib/axes/_base.py:534\u001b[0m, in \u001b[0;36m_process_plot_var_args._plot_args\u001b[0;34m(self, axes, tup, kwargs, return_kwargs, ambiguous_fmt_datakey)\u001b[0m\n\u001b[1;32m    532\u001b[0m     \u001b[38;5;28;01mreturn\u001b[39;00m \u001b[38;5;28mlist\u001b[39m(result)\n\u001b[1;32m    533\u001b[0m \u001b[38;5;28;01melse\u001b[39;00m:\n\u001b[0;32m--> 534\u001b[0m     \u001b[38;5;28;01mreturn\u001b[39;00m \u001b[43m[\u001b[49m\u001b[43ml\u001b[49m\u001b[43m[\u001b[49m\u001b[38;5;241;43m0\u001b[39;49m\u001b[43m]\u001b[49m\u001b[43m \u001b[49m\u001b[38;5;28;43;01mfor\u001b[39;49;00m\u001b[43m \u001b[49m\u001b[43ml\u001b[49m\u001b[43m \u001b[49m\u001b[38;5;129;43;01min\u001b[39;49;00m\u001b[43m \u001b[49m\u001b[43mresult\u001b[49m\u001b[43m]\u001b[49m\n",
      "File \u001b[0;32m~/Desktop/Models/myenv/lib/python3.12/site-packages/matplotlib/axes/_base.py:527\u001b[0m, in \u001b[0;36m<genexpr>\u001b[0;34m(.0)\u001b[0m\n\u001b[1;32m    522\u001b[0m \u001b[38;5;28;01melse\u001b[39;00m:\n\u001b[1;32m    523\u001b[0m     \u001b[38;5;28;01mraise\u001b[39;00m \u001b[38;5;167;01mValueError\u001b[39;00m(\n\u001b[1;32m    524\u001b[0m         \u001b[38;5;124mf\u001b[39m\u001b[38;5;124m\"\u001b[39m\u001b[38;5;124mlabel must be scalar or have the same length as the input \u001b[39m\u001b[38;5;124m\"\u001b[39m\n\u001b[1;32m    525\u001b[0m         \u001b[38;5;124mf\u001b[39m\u001b[38;5;124m\"\u001b[39m\u001b[38;5;124mdata, but found \u001b[39m\u001b[38;5;132;01m{\u001b[39;00m\u001b[38;5;28mlen\u001b[39m(label)\u001b[38;5;132;01m}\u001b[39;00m\u001b[38;5;124m for \u001b[39m\u001b[38;5;132;01m{\u001b[39;00mn_datasets\u001b[38;5;132;01m}\u001b[39;00m\u001b[38;5;124m datasets.\u001b[39m\u001b[38;5;124m\"\u001b[39m)\n\u001b[0;32m--> 527\u001b[0m result \u001b[38;5;241m=\u001b[39m (make_artist(axes, x[:, j \u001b[38;5;241m%\u001b[39m ncx], y[:, j \u001b[38;5;241m%\u001b[39m ncy], kw,\n\u001b[1;32m    528\u001b[0m                       {\u001b[38;5;241m*\u001b[39m\u001b[38;5;241m*\u001b[39mkwargs, \u001b[38;5;124m'\u001b[39m\u001b[38;5;124mlabel\u001b[39m\u001b[38;5;124m'\u001b[39m: label})\n\u001b[1;32m    529\u001b[0m           \u001b[38;5;28;01mfor\u001b[39;00m j, label \u001b[38;5;129;01min\u001b[39;00m \u001b[38;5;28menumerate\u001b[39m(labels))\n\u001b[1;32m    531\u001b[0m \u001b[38;5;28;01mif\u001b[39;00m return_kwargs:\n\u001b[1;32m    532\u001b[0m     \u001b[38;5;28;01mreturn\u001b[39;00m \u001b[38;5;28mlist\u001b[39m(result)\n",
      "\u001b[0;31mKeyboardInterrupt\u001b[0m: "
     ]
    },
    {
     "data": {
      "image/png": "[encoded data removed]",
      "text/plain": [
       "<Figure size 640x480 with 1 Axes>"
      ]
     },
     "metadata": {},
     "output_type": "display_data"
    },
    {
     "data": {
      "image/png": "[encoded data removed]",
      "text/plain": [
       "<Figure size 500x500 with 1 Axes>"
      ]
     },
     "metadata": {},
     "output_type": "display_data"
    }
   ],
   "source": [
    "from tqdm import tqdm\n",
    "\n",
    "best_val_loss = float('inf')  # Initialize the best validation loss as infinity\n",
    "\n",
    "# Open a log file to save training and validation losses\n",
    "log_file_path = 'training_logs.txt'\n",
    "with open(log_file_path, 'w') as log_file:\n",
    "\n",
    "    # Your training loop\n",
    "    for epoch in range(1):\n",
    "        model.train()  # Set the model to training mode\n",
    "        epoch_loss = 0\n",
    "\n",
    "        for t, batch in enumerate(train_loader):\n",
    "            ref_img, half_img, strokes, last_strokes = batch  \n",
    "            ref_img = ref_img.to(device)\n",
    "            half_img = half_img.to(device)\n",
    "            half_strokes = strokes.to(device)\n",
    "            strokes = last_strokes.to(device)\n",
    "\n",
    "            batch_loss = 0.0\n",
    "            for sample in tqdm(range(strokes.shape[0]), desc=f\"Processing Strokes for Batch {t}\", ncols=100, unit=\"sample\"):\n",
    "                for i in range(strokes.size(1)):  # Loop over each stroke in the sequence\n",
    "                    actual_stroke = strokes[:, i, :]  # Shape: [batch_size, 3]\n",
    "                    predicted_stroke = model(half_img, ref_img).to(device)  # Shape: [batch_size, 3]\n",
    "\n",
    "                    batch_size, sequence_length, _ = half_strokes.shape\n",
    "                    target_row = torch.tensor([0., 0., 1.]).to(device)\n",
    "\n",
    "                    for batch_idx in range(batch_size):\n",
    "                        for stroke_idx in range(sequence_length):\n",
    "                            if torch.equal(half_strokes[batch_idx, stroke_idx], target_row):\n",
    "                                half_strokes[batch_idx, stroke_idx] = predicted_stroke[batch_idx]\n",
    "                                break\n",
    "\n",
    "                    loss = criterion(predicted_stroke, actual_stroke)\n",
    "                    batch_loss += loss.item()\n",
    "\n",
    "                    optimizer.zero_grad()\n",
    "                    loss.backward()\n",
    "                    optimizer.step()\n",
    "\n",
    "                    predicted_stroke = predicted_stroke.unsqueeze(1)\n",
    "                    half_strokes = torch.cat((half_strokes, predicted_stroke), dim=1)\n",
    "\n",
    "                    images = []\n",
    "                    for seq in half_strokes:\n",
    "                        img = strokeToImage(seq.cpu().detach().numpy())  # Convert to NumPy array\n",
    "                        images.append(img)\n",
    "\n",
    "                    new_half_img_list = []\n",
    "                    for img in images:\n",
    "                        tensor_img = torch.from_numpy(img.copy()).unsqueeze(0).unsqueeze(0)  # Shape: [1, 1, 250, 250]\n",
    "                        new_half_img_list.append(tensor_img)\n",
    "\n",
    "                    new_half_img = torch.cat(new_half_img_list, dim=0).float().to(device)  # Shape: [batch_size, 1, 250, 250]\n",
    "                    half_img = new_half_img.cpu().detach()\n",
    "                    plt.imshow(half_img[0][0], cmap='gray')\n",
    "                    half_img = new_half_img\n",
    "\n",
    "                epoch_loss += batch_loss / strokes.size(1)  # Average over sequence length\n",
    "\n",
    "        epoch_loss /= len(train_loader.dataset)\n",
    "        print(f'Epoch [{epoch + 1}/{num_epochs}], Training Loss: {epoch_loss:.4f}')\n",
    "        log_file.write(f'Epoch [{epoch + 1}/{num_epochs}], Training Loss: {epoch_loss:.4f}\\n')\n",
    "\n",
    "        model.eval()  # Set the model to evaluation mode\n",
    "        val_loss = 0\n",
    "\n",
    "        with torch.no_grad():  # Disable gradient calculation for validation\n",
    "            for t, batch in enumerate(tqdm(val_loader, desc=f\"Validation Progress\", ncols=100, unit=\"batch\")):\n",
    "                ref_img, half_img, strokes, last_strokes = batch\n",
    "                ref_img = ref_img.to(device)\n",
    "                half_img = half_img.to(device)\n",
    "                half_strokes = strokes.to(device)\n",
    "                strokes = last_strokes.to(device)\n",
    "\n",
    "                batch_val_loss = 0.0\n",
    "                for i in range(strokes.size(1)):  # Loop over each stroke in the sequence\n",
    "                    actual_stroke = strokes[:, i, :]  # Shape: [batch_size, 3]\n",
    "                    predicted_stroke = model(half_img, ref_img)  # Shape: [batch_size, 3]\n",
    "\n",
    "                    val_loss_step = criterion(predicted_stroke, actual_stroke)\n",
    "                    batch_val_loss += val_loss_step.item()\n",
    "\n",
    "                    predicted_stroke = predicted_stroke.unsqueeze(1)\n",
    "                    half_strokes = torch.cat((half_strokes, predicted_stroke), dim=1)\n",
    "\n",
    "                    images = [strokeToImage(seq.cpu().detach().numpy()) for seq in half_strokes]\n",
    "                    new_half_img_list = [torch.from_numpy(img.copy()).unsqueeze(0).unsqueeze(0) for img in images]\n",
    "                    new_half_img = torch.cat(new_half_img_list, dim=0).float().to(device)\n",
    "                    check = new_half_img.cpu().detach()\n",
    "                    plt.imshow(check, cmap='gray')\n",
    "                    half_img = new_half_img\n",
    "\n",
    "                val_loss += batch_val_loss / strokes.size(1)\n",
    "\n",
    "        val_loss /= len(val_loader.dataset)\n",
    "        print(f'Epoch [{epoch + 1}/{num_epochs}], Validation Loss: {val_loss:.4f}')\n",
    "        log_file.write(f'Epoch [{epoch + 1}/{num_epochs}], Validation Loss: {val_loss:.4f}\\n')\n",
    "\n",
    "        # Save the best model if current val_loss is the lowest\n",
    "        if val_loss < best_val_loss:\n",
    "            best_val_loss = val_loss\n",
    "            torch.save(model.state_dict(), '../saved_models/best_model.pth')\n",
    "            print(f'Best model saved with validation loss: {best_val_loss:.4f}')\n",
    "            log_file.write(f'Best model saved with validation loss: {best_val_loss:.4f}\\n')\n",
    "\n",
    "        # Save the last model at the end of training\n",
    "        if epoch == num_epochs - 1:\n",
    "            torch.save(model.state_dict(), '../saved_models/last_model.pth')\n",
    "            print(\"Last model saved.\")\n",
    "            log_file.write(\"Last model saved.\\n\")\n",
    "\n",
    "        train_losses.append(epoch_loss)\n",
    "        val_losses.append(val_loss)\n"
   ]
  },
  {
   "cell_type": "code",
   "execution_count": null,
   "metadata": {},
   "outputs": [],
   "source": []
  }
 ],
 "metadata": {
  "kernelspec": {
   "display_name": "myenv",
   "language": "python",
   "name": "python3"
  },
  "language_info": {
   "codemirror_mode": {
    "name": "ipython",
    "version": 3
   },
   "file_extension": ".py",
   "mimetype": "text/x-python",
   "name": "python",
   "nbconvert_exporter": "python",
   "pygments_lexer": "ipython3",
   "version": "3.12.3"
  }
 },
 "nbformat": 4,
 "nbformat_minor": 2
}
