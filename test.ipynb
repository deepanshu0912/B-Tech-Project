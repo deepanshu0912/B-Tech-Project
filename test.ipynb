{
 "cells": [
  {
   "cell_type": "code",
   "execution_count": 1,
   "metadata": {},
   "outputs": [],
   "source": [
    "import torch\n",
    "import numpy as np\n",
    "import os\n",
    "import matplotlib.pyplot as plt\n",
    "from matplotlib.backends.backend_agg import FigureCanvasAgg as FigureCanvas\n",
    "import cv2\n",
    "import torch.nn as nn\n",
    "import torch.nn.functional as F"
   ]
  },
  {
   "cell_type": "code",
   "execution_count": 2,
   "metadata": {},
   "outputs": [],
   "source": [
    "model_path = '../../saved_models/best_model.pth'\n",
    "half_img = torch.randn(1, 1, 500, 500)  # Example half image (batch_size=1, channels=1, H=500, W=500)\n",
    "full_img = torch.randn(1, 1, 500, 500)  # Example full image (batch_size=1, channels=1, H=500, W=500)"
   ]
  },
  {
   "cell_type": "code",
   "execution_count": 3,
   "metadata": {},
   "outputs": [],
   "source": [
    "\n",
    "class Conv2dModel(nn.Module):\n",
    "    def __init__(self, cnn_out):\n",
    "        super(Conv2dModel, self).__init__()\n",
    "        \n",
    "        self.cnn = nn.Sequential(\n",
    "            nn.Conv2d(1, 32, kernel_size=3, stride=1, padding=1),\n",
    "            nn.ReLU(),\n",
    "            nn.MaxPool2d(2),  # 32x250x250\n",
    "            nn.Conv2d(32, 64, kernel_size=3, stride=1, padding=1),\n",
    "            nn.ReLU(),\n",
    "            nn.MaxPool2d(2),  # 64x125x125\n",
    "            nn.Conv2d(64, 128, kernel_size=3, stride=1, padding=1),\n",
    "            nn.ReLU(),\n",
    "            nn.MaxPool2d(2),  # 128x62x62\n",
    "            nn.Flatten(),\n",
    "            \n",
    "            nn.Linear(128 * 62 * 62, cnn_out),\n",
    "            nn.ReLU()\n",
    "        )\n",
    "\n",
    "    \n",
    "\n",
    "    def forward(self, img):\n",
    "        x = self.cnn(img)\n",
    "        return x\n",
    "        \n",
    "\n",
    "class Encoder(nn.Module):\n",
    "    def __init__(self, cnn_out_dim,output_dim):\n",
    "        super(Encoder, self).__init__()\n",
    "        \n",
    "        self.half_cnn = Conv2dModel(cnn_out_dim)\n",
    "        self.full_cnn = Conv2dModel(cnn_out_dim)\n",
    "        # Combine half image and full image encodings\n",
    "        self.fc = nn.Sequential(\n",
    "            nn.Linear(cnn_out_dim*2, output_dim),  # Combine the two CNN outputs\n",
    "            nn.ReLU()\n",
    "        )\n",
    "        \n",
    "       \n",
    "    \n",
    "    def forward(self, half_img, full_img):\n",
    "       \n",
    "        half_img_encoding = self.half_cnn(half_img)\n",
    "        full_img_encoding = self.full_cnn(full_img)\n",
    "\n",
    "        \n",
    "        combined_encoding = torch.cat((half_img_encoding, full_img_encoding), dim=1)\n",
    "        \n",
    "        \n",
    "        latent = self.fc(combined_encoding)\n",
    "        \n",
    "        return latent\n",
    "    \n",
    "class Decoder(nn.Module):\n",
    "    def __init__(self, output_dim, input_dim, hidden_dim, n_layers):\n",
    "        super().__init__()\n",
    "        self.output_dim = output_dim\n",
    "        self.hidden_dim = hidden_dim\n",
    "        self.n_layers = n_layers\n",
    "\n",
    "        self.rnn = nn.LSTM(input_dim, hidden_dim, n_layers, batch_first=True)\n",
    "        self.fc_out = nn.Linear(hidden_dim, output_dim)\n",
    "\n",
    "    def forward(self, input, hidden, cell):\n",
    "        # Ensure input shape is (batch_size, seq_length, input_dim)\n",
    "        input = input.unsqueeze(1)  # Shape: (batch_size, 1, input_dim)\n",
    "        \n",
    "        output, (hidden, cell) = self.rnn(input, (hidden, cell))\n",
    "        prediction = self.fc_out(output)\n",
    "        return prediction, hidden, cell\n",
    "\n",
    "class Seq2Seq(nn.Module):\n",
    "    def __init__(self,encoder,decoder,device):\n",
    "        super(Seq2Seq,self).__init__()\n",
    "\n",
    "        self.encoder = encoder\n",
    "        self.decoder = decoder\n",
    "        self.device = device\n",
    "\n",
    "    def forward(self,ref_img,half_img,strokes):\n",
    "\n",
    "        latent = self.encoder(half_img,ref_img)\n",
    "        \n",
    "\n",
    "        batch_size = strokes.shape[0]\n",
    "        trg_length = strokes.shape[1]\n",
    "\n",
    "\n",
    "        outputs = torch.zeros(trg_length, batch_size, self.decoder.output_dim).to(self.device)\n",
    "\n",
    "     \n",
    "\n",
    "\n",
    "        input = strokes[:,0,:]\n",
    "\n",
    "        outputs[0] = input\n",
    "\n",
    "        \n",
    "        \n",
    "\n",
    "        hidden = latent.unsqueeze(0)  # Shape: (1, batch_size, output_dim)\n",
    "        cell = latent.unsqueeze(0) \n",
    "\n",
    "        \n",
    "\n",
    "        for i in range(1,trg_length):\n",
    "\n",
    "            output, hidden, cell = self.decoder(input, hidden, cell)\n",
    "            output = output.squeeze(1)\n",
    "            input = output\n",
    "            \n",
    "            output[:, 2] = (output[:, 2] > 0.05).float()\n",
    "            outputs[i] = output\n",
    "\n",
    "            \n",
    "            # implemet teacher forcing\n",
    "\n",
    "        return outputs\n"
   ]
  },
  {
   "cell_type": "code",
   "execution_count": 4,
   "metadata": {},
   "outputs": [
    {
     "name": "stderr",
     "output_type": "stream",
     "text": [
      "/tmp/ipykernel_66131/94259768.py:9: FutureWarning: You are using `torch.load` with `weights_only=False` (the current default value), which uses the default pickle module implicitly. It is possible to construct malicious pickle data which will execute arbitrary code during unpickling (See https://github.com/pytorch/pytorch/blob/main/SECURITY.md#untrusted-models for more details). In a future release, the default value for `weights_only` will be flipped to `True`. This limits the functions that could be executed during unpickling. Arbitrary objects will no longer be allowed to be loaded via this mode unless they are explicitly allowlisted by the user via `torch.serialization.add_safe_globals`. We recommend you start setting `weights_only=True` for any use case where you don't have full control of the loaded file. Please open an issue on GitHub for any issues related to this experimental feature.\n",
      "  model.load_state_dict(torch.load(model_path, map_location=device))\n"
     ]
    }
   ],
   "source": [
    "# Define the function to load the model and make predictions\n",
    "def load_model_and_predict_strokes(half_img, full_img, model_path, device='cpu'):\n",
    "    # Load the saved model\n",
    "    encoder = Encoder(cnn_out_dim=32, output_dim=64).to(device)\n",
    "    decoder = Decoder(output_dim=3, input_dim=3, hidden_dim=64, n_layers=1).to(device)\n",
    "    model = Seq2Seq(encoder, decoder, device).to(device)\n",
    "    \n",
    "    # Load the model's weights\n",
    "    model.load_state_dict(torch.load(model_path, map_location=device))\n",
    "    model.eval()  # Set the model to evaluation mode\n",
    "\n",
    "    # Ensure images are on the correct device\n",
    "    half_img = half_img.to(device)\n",
    "    full_img = full_img.to(device)\n",
    "\n",
    "    batch_size = half_img.size(0)\n",
    "    seq_len = 100  # Example sequence length (adjust as per your dataset)\n",
    "    fake_strokes = torch.zeros(batch_size, seq_len, 3).to(device)  # Initialize fake strokes\n",
    "    \n",
    "\n",
    "    with torch.no_grad():  # No need to calculate gradients during prediction\n",
    "        predicted_strokes = model(full_img, half_img, fake_strokes)\n",
    "    \n",
    "\n",
    "    predicted_strokes = predicted_strokes.permute(1, 0, 2)\n",
    "\n",
    "    return predicted_strokes  # Return the predicted strokes\n",
    "\n",
    "\n",
    "\n",
    "predicted_strokes = load_model_and_predict_strokes(half_img, full_img, model_path)\n"
   ]
  },
  {
   "cell_type": "code",
   "execution_count": 5,
   "metadata": {},
   "outputs": [],
   "source": [
    "def strokeToImage(strokes):\n",
    "\n",
    "    \n",
    "    x, y = strokes[0][0], strokes[0][1]\n",
    "\n",
    "    # Create a figure and canvas to render the plot\n",
    "    fig, ax = plt.subplots(figsize=(5, 5))\n",
    "    canvas = FigureCanvas(fig)\n",
    "    \n",
    "    for stroke in strokes:\n",
    "        dx, dy, pen_up = stroke\n",
    "        \n",
    "        \n",
    "        new_x, new_y = x+dx, y+dy  \n",
    "\n",
    "        if pen_up == 0:\n",
    "            ax.plot([x,new_x], [y,new_y], color='black')\n",
    "\n",
    "        x, y = new_x, new_y\n",
    "\n",
    "    # Set limits for the plot\n",
    "    ax.set_xlim(-500, 500)\n",
    "    ax.set_ylim(-500, 500)\n",
    "    \n",
    "    # Remove axis ticks and labels for a clean image\n",
    "    ax.axis('off')\n",
    "\n",
    "    # Render the plot to the canvas\n",
    "    canvas.draw()\n",
    "\n",
    "    # Convert the canvas to a NumPy array\n",
    "    image = np.frombuffer(canvas.tostring_rgb(), dtype='uint8')\n",
    "    \n",
    "    # Get the width and height from the figure\n",
    "    width, height = fig.get_size_inches() * fig.get_dpi()\n",
    "\n",
    "    # Reshape the buffer to the correct dimensions (height, width, 3) for an RGB image\n",
    "    image = image.reshape(int(height), int(width), 3)\n",
    "    img = cv2.cvtColor(image, cv2.COLOR_BGR2GRAY) # bw_img will be of shape (32, 32)\n",
    "\n",
    "    \n",
    "    plt.close(fig)\n",
    "    \n",
    "    return img"
   ]
  },
  {
   "cell_type": "code",
   "execution_count": 9,
   "metadata": {},
   "outputs": [
    {
     "name": "stderr",
     "output_type": "stream",
     "text": [
      "/tmp/ipykernel_66131/420411782.py:32: MatplotlibDeprecationWarning: The tostring_rgb function was deprecated in Matplotlib 3.8 and will be removed in 3.10. Use buffer_rgba instead.\n",
      "  image = np.frombuffer(canvas.tostring_rgb(), dtype='uint8')\n"
     ]
    }
   ],
   "source": [
    "img=strokeToImage(predicted_strokes[0])"
   ]
  },
  {
   "cell_type": "code",
   "execution_count": 10,
   "metadata": {},
   "outputs": [
    {
     "data": {
      "text/plain": [
       "<matplotlib.image.AxesImage at 0x7c3f2e642150>"
      ]
     },
     "execution_count": 10,
     "metadata": {},
     "output_type": "execute_result"
    },
    {
     "data": {
      "image/png": "[encoded data removed]",
      "text/plain": [
       "<Figure size 640x480 with 1 Axes>"
      ]
     },
     "metadata": {},
     "output_type": "display_data"
    }
   ],
   "source": [
    "plt.imshow(img,cmap='gray')"
   ]
  }
 ],
 "metadata": {
  "kernelspec": {
   "display_name": "myenv",
   "language": "python",
   "name": "python3"
  },
  "language_info": {
   "codemirror_mode": {
    "name": "ipython",
    "version": 3
   },
   "file_extension": ".py",
   "mimetype": "text/x-python",
   "name": "python",
   "nbconvert_exporter": "python",
   "pygments_lexer": "ipython3",
   "version": "3.12.3"
  }
 },
 "nbformat": 4,
 "nbformat_minor": 2
}
